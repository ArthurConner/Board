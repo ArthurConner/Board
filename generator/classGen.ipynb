{
 "cells": [
  {
   "cell_type": "code",
   "execution_count": 1,
   "metadata": {},
   "outputs": [],
   "source": [
    "%matplotlib inline"
   ]
  },
  {
   "cell_type": "code",
   "execution_count": 2,
   "metadata": {},
   "outputs": [],
   "source": [
    "from numpy.random import randn, uniform, normal,randint\n",
    "import random\n",
    "import numpy as np\n",
    "import os\n",
    "import matplotlib.pyplot as plt\n",
    "import pandas as pd\n",
    "import calendar\n",
    "from datetime import date, timedelta\n",
    "import json\n",
    "import uuid\n",
    "import importlib\n",
    "ourGen = importlib.import_module(\"generator\")\n",
    "ourGen = importlib.reload(ourGen)"
   ]
  },
  {
   "cell_type": "code",
   "execution_count": 3,
   "metadata": {},
   "outputs": [],
   "source": [
    "\n",
    "\n",
    "class WorldGenerator:\n",
    "    \n",
    "    def loadCompanies(self,count):\n",
    "        path = 'surnames/sp500.csv'\n",
    "        companylist = pd.read_csv(path,  header=0)\n",
    "\n",
    "        arr = np.arange(len(companylist)).astype(np.int32)\n",
    "        np.random.shuffle(arr)\n",
    "        companylist.head()\n",
    "        ret = []\n",
    "        for x in range(count):\n",
    "            i = arr[x]\n",
    "            row = companylist.iloc[i]\n",
    "            fields = [\"Symbol\",\"Name\",\"Sector\"]\n",
    "            addMe = {}\n",
    "            for field in fields:\n",
    "                addMe[field] = row[field]\n",
    "            ret.append(addMe)\n",
    "        return ret\n",
    "    \n",
    "    def employmentHistory(self,years,switchprob):\n",
    "        \n",
    "        arr = np.arange(len(self.companies)).astype(np.int32)\n",
    "        np.random.shuffle(arr)\n",
    "        \n",
    "        last = int(arr[0])\n",
    "        ret = [last]\n",
    "        while len(ret) < years:\n",
    "            if uniform() < switchprob:\n",
    "                last = int(arr[len(ret)])\n",
    "            ret.append(last)\n",
    "        return ret\n",
    "    \n",
    "    def friendsOf(self,i):\n",
    "        hist = self.people[i][\"employment\"]\n",
    "        friends = {}\n",
    "        for j in range(len(self.people)):\n",
    "            if i != j:\n",
    "                other = self.people[j]\n",
    "                count = 0\n",
    "                for k in range(len(hist)):\n",
    "                    if (hist[k] == other[\"employment\"][k]):\n",
    "                        count += 1\n",
    "\n",
    "                if count > 0:\n",
    "                    friends[other[\"id\"]] = count\n",
    "\n",
    "        return friends\n",
    "\n",
    "    def __init__(self,mcount=50,mmean=1968,mstd=9,fcount=50,fmean=1973,fstd=9):\n",
    "        peopleGen = ourGen.PersonGenerator()\n",
    "        people = peopleGen.getGroupAround(mmean,mstd,mcount,\"M\")\n",
    "        people.extend( peopleGen.getGroupAround(fmean,fstd,fcount,\"F\"))\n",
    "        self.people = []\n",
    "        \n",
    "        for x in people:\n",
    "            if (x[\"birth\"][\"year\"] <2018-23):\n",
    "                self.people.append(x)\n",
    "       \n",
    "        self.companies = self.loadCompanies(int(len(people)/3))\n",
    "       \n",
    "            \n",
    "        self.properties = {\n",
    "    \"occupation\":[\"marketing\",\"finance\",\"IT\",\"accounting\",\"legal\",\"sales\"],\n",
    "    \"wealth\":[\"not much\",\"some\",\"average\",\"quite a bit\",\"vast sums\"],\n",
    "    \"generosity\":[\"stingy\",\"poor\",\"average\",\"generous\",\"fantastic\"],\n",
    "    \"enthusiam\":[\"Not much\",\"Some\",\"Average\",\"Great\",\"Hero\"],\n",
    "    \"communication\":[\"Silent\",\"Some\",\"Average\",\"A Lot\"] }\n",
    "\n",
    "        for pep in self.people:\n",
    "            pep[\"employment\"] = self.employmentHistory(8,0.25)\n",
    "            for key, value in self.properties.items():\n",
    "                pep[key] = value[randint(0, len(value))]\n",
    "            \n",
    "        for i in range(len(self.people)):\n",
    "            pep = self.people[i]\n",
    "            pep[\"friends\"] = self.friendsOf(i)\n",
    "           \n",
    "                \n",
    "    def asDict(self):\n",
    "        lookup = {}\n",
    "\n",
    "\n",
    "        for pep in self.people:\n",
    "            lookup[pep[\"id\"]] = pep\n",
    "    \n",
    "        host = self.people[randint(0, len(self.people))][\"id\"]\n",
    "        return {\"properties\":self.properties,\"people\":lookup,\"founder\":host,\"companies\":self.companies}\n",
    "        \n",
    "    def export(self,filename):\n",
    "        with open(filename, 'w') as outfile:\n",
    "            json.dump(self.asDict(),outfile,indent=4, sort_keys=True)\n",
    "   \n",
    "        "
   ]
  },
  {
   "cell_type": "code",
   "execution_count": 4,
   "metadata": {},
   "outputs": [],
   "source": [
    "world = WorldGenerator(mcount=50,fcount=50)"
   ]
  },
  {
   "cell_type": "code",
   "execution_count": 5,
   "metadata": {},
   "outputs": [
    {
     "data": {
      "text/plain": [
       "{'birth': {'day': 17, 'month': 5, 'year': 1954},\n",
       " 'communication': 'Some',\n",
       " 'employment': [22, 17, 17, 25, 25, 25, 7, 7],\n",
       " 'enthusiam': 'Great',\n",
       " 'first': 'Jay',\n",
       " 'friends': {'1e6aacba-730c-4793-b825-b1c53a416a3d': 2,\n",
       "  '315a237d-65f5-44d3-b6b5-44433e95746e': 3,\n",
       "  '6af456c0-68a8-430b-b394-6c8b5ce16a3f': 2,\n",
       "  '7a36278b-68e0-4414-b7d1-8eabac188a26': 2,\n",
       "  '8aad0df1-0aed-43e9-879a-f4b3be6e4dd3': 1,\n",
       "  '8bd56123-4e5a-4661-b7be-ce84b7a3fbd8': 4,\n",
       "  'c08c353d-9130-4a00-bf7a-331a4891ede5': 2,\n",
       "  'd55bdd6e-4226-4747-8f9e-03b25a0d4bde': 2,\n",
       "  'd58a7f99-7555-4f80-85fc-173f4594e6b9': 2,\n",
       "  'd80eafd2-544f-4e1d-9288-a9017a697691': 3,\n",
       "  'e7254515-9d18-4f24-8316-c82077e3e456': 2,\n",
       "  'ef07e0d5-6587-43fc-8fad-d0386f0b2a2a': 2,\n",
       "  'f5749774-558d-47d3-9038-d875092f14b3': 1},\n",
       " 'gender': 'M',\n",
       " 'generosity': 'generous',\n",
       " 'id': '35b1ff52-7403-41ab-9177-9d2db2395647',\n",
       " 'imageID': 32,\n",
       " 'last': 'Shaffer',\n",
       " 'middle': 'Pierre',\n",
       " 'name': 'Jay P. Shaffer',\n",
       " 'occupation': 'accounting',\n",
       " 'wealth': 'average'}"
      ]
     },
     "execution_count": 5,
     "metadata": {},
     "output_type": "execute_result"
    }
   ],
   "source": [
    "world.people[1]"
   ]
  },
  {
   "cell_type": "markdown",
   "metadata": {},
   "source": [
    "## demographics"
   ]
  },
  {
   "cell_type": "code",
   "execution_count": 6,
   "metadata": {},
   "outputs": [
    {
     "data": {
      "image/png": "[encoded data removed]",
      "text/plain": [
       "<matplotlib.figure.Figure at 0x11ac77b00>"
      ]
     },
     "metadata": {},
     "output_type": "display_data"
    }
   ],
   "source": [
    "years = []\n",
    "for i in world.people:\n",
    "    years.append(i[\"birth\"][\"year\"])\n",
    "\n",
    "yearnp = np.array(years)\n",
    "plt.hist(yearnp,bins=25)\n",
    "plt.title(\"Year Histogram\")\n",
    "plt.show()"
   ]
  },
  {
   "cell_type": "code",
   "execution_count": 7,
   "metadata": {},
   "outputs": [
    {
     "data": {
      "image/png": "[encoded data removed]",
      "text/plain": [
       "<matplotlib.figure.Figure at 0x11feff128>"
      ]
     },
     "metadata": {},
     "output_type": "display_data"
    }
   ],
   "source": [
    "years = []\n",
    "for i in world.people:\n",
    "    years.append(len(i[\"friends\"]))\n",
    "\n",
    "yearnp = np.array(years)\n",
    "plt.hist(yearnp)\n",
    "plt.title(\"Friend count Histogram\")\n",
    "plt.show()"
   ]
  },
  {
   "cell_type": "code",
   "execution_count": 8,
   "metadata": {},
   "outputs": [
    {
     "data": {
      "text/plain": [
       "4"
      ]
     },
     "execution_count": 8,
     "metadata": {},
     "output_type": "execute_result"
    }
   ],
   "source": [
    "jobs = len(np.unique(world.people[1][\"employment\"]))\n",
    "jobs"
   ]
  },
  {
   "cell_type": "code",
   "execution_count": 9,
   "metadata": {},
   "outputs": [
    {
     "data": {
      "image/png": "[encoded data removed]",
      "text/plain": [
       "<matplotlib.figure.Figure at 0x120f4ab00>"
      ]
     },
     "metadata": {},
     "output_type": "display_data"
    }
   ],
   "source": [
    "years = []\n",
    "for i in world.people:\n",
    "    jobs = len(np.unique(i[\"employment\"]))\n",
    "\n",
    "    years.append(jobs)\n",
    "\n",
    "yearnp = np.array(years)\n",
    "plt.hist(yearnp)\n",
    "plt.title(\"job count Histogram\")\n",
    "plt.show()"
   ]
  },
  {
   "cell_type": "code",
   "execution_count": 10,
   "metadata": {},
   "outputs": [],
   "source": [
    "world.export(\"world.json\")"
   ]
  }
 ],
 "metadata": {
  "kernelspec": {
   "display_name": "Python 3",
   "language": "python",
   "name": "python3"
  },
  "language_info": {
   "codemirror_mode": {
    "name": "ipython",
    "version": 3
   },
   "file_extension": ".py",
   "mimetype": "text/x-python",
   "name": "python",
   "nbconvert_exporter": "python",
   "pygments_lexer": "ipython3",
   "version": "3.6.1"
  }
 },
 "nbformat": 4,
 "nbformat_minor": 2
}
