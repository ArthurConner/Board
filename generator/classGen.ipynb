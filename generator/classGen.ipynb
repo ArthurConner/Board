{
 "cells": [
  {
   "cell_type": "code",
   "execution_count": 1,
   "metadata": {},
   "outputs": [],
   "source": [
    "%matplotlib inline"
   ]
  },
  {
   "cell_type": "code",
   "execution_count": 2,
   "metadata": {},
   "outputs": [],
   "source": [
    "from numpy.random import randn, uniform, normal,randint\n",
    "import random\n",
    "import numpy as np\n",
    "import os\n",
    "import matplotlib.pyplot as plt\n",
    "import pandas as pd\n",
    "import calendar\n",
    "from datetime import date, timedelta\n",
    "import json\n",
    "import uuid\n",
    "import importlib\n",
    "ourGen = importlib.import_module(\"generator\")\n",
    "ourGen = importlib.reload(ourGen)"
   ]
  },
  {
   "cell_type": "code",
   "execution_count": 3,
   "metadata": {},
   "outputs": [],
   "source": [
    "\n",
    "\n",
    "class WorldGenerator:\n",
    "    \n",
    "    def loadCompanies(self,count):\n",
    "        path = 'surnames/sp500.csv'\n",
    "        companylist = pd.read_csv(path,  header=0)\n",
    "\n",
    "        arr = np.arange(len(companylist)).astype(np.int32)\n",
    "        np.random.shuffle(arr)\n",
    "        companylist.head()\n",
    "        ret = []\n",
    "        for x in range(count):\n",
    "            i = arr[x]\n",
    "            row = companylist.iloc[i]\n",
    "            fields = [\"Symbol\",\"Name\",\"Sector\"]\n",
    "            addMe = {}\n",
    "            for field in fields:\n",
    "                addMe[field] = row[field]\n",
    "            ret.append(addMe)\n",
    "        return ret\n",
    "    \n",
    "    def employmentHistory(self,years,switchprob):\n",
    "        \n",
    "        arr = np.arange(len(self.companies)).astype(np.int32)\n",
    "        np.random.shuffle(arr)\n",
    "        \n",
    "        last = int(arr[0])\n",
    "        ret = [last]\n",
    "        while len(ret) < years:\n",
    "            if uniform() < switchprob:\n",
    "                last = int(arr[len(ret)])\n",
    "            ret.append(last)\n",
    "        return ret\n",
    "    \n",
    "    def friendsOf(self,i):\n",
    "        hist = self.people[i][\"employment\"]\n",
    "        friends = {}\n",
    "        for j in range(len(self.people)):\n",
    "            if i != j:\n",
    "                other = self.people[j]\n",
    "                count = 0\n",
    "                for k in range(len(hist)):\n",
    "                    if (hist[k] == other[\"employment\"][k]):\n",
    "                        count += 1\n",
    "\n",
    "                if count > 0:\n",
    "                    friends[other[\"id\"]] = count\n",
    "\n",
    "        return friends\n",
    "\n",
    "    def __init__(self,mcount=50,mmean=1968,mstd=9,fcount=50,fmean=1973,fstd=9):\n",
    "        peopleGen = ourGen.PersonGenerator()\n",
    "        people = peopleGen.getGroupAround(mmean,mstd,mcount,\"M\")\n",
    "        people.extend( peopleGen.getGroupAround(fmean,fstd,fcount,\"F\"))\n",
    "        self.people = []\n",
    "        \n",
    "        for x in people:\n",
    "            if (x[\"birth\"][\"year\"] <2018-23):\n",
    "                self.people.append(x)\n",
    "       \n",
    "        self.companies = self.loadCompanies(int(len(people)/3))\n",
    "       \n",
    "            \n",
    "        self.properties = {\n",
    "    \"occupation\":[\"Marketing\",\"Finance\",\"IT\",\"Accounting\",\"Legal\",\"Sales\"],\n",
    "    \"wealth\":[\"not much\",\"some\",\"average\",\"quite a bit\",\"vast sums\"],\n",
    "    \"generosity\":[\"stingy\",\"poor\",\"average\",\"generous\",\"fantastic\"],\n",
    "    \"enthusiam\":[\"Not much\",\"Some\",\"Average\",\"Great\",\"Hero\"],\n",
    "    \"communication\":[\"Silent\",\"Some\",\"Average\",\"A Lot\"] }\n",
    "\n",
    "        for pep in self.people:\n",
    "            pep[\"employment\"] = self.employmentHistory(8,0.25)\n",
    "            for key, value in self.properties.items():\n",
    "                pep[key] = value[randint(0, len(value))]\n",
    "            \n",
    "        for i in range(len(self.people)):\n",
    "            pep = self.people[i]\n",
    "            pep[\"friends\"] = self.friendsOf(i)\n",
    "           \n",
    "                \n",
    "    def asDict(self):\n",
    "        lookup = {}\n",
    "\n",
    "\n",
    "        for pep in self.people:\n",
    "            lookup[pep[\"id\"]] = pep\n",
    "    \n",
    "        host = self.people[randint(0, len(self.people))][\"id\"]\n",
    "        return {\"properties\":self.properties,\"people\":lookup,\"founder\":host,\"companies\":self.companies}\n",
    "        \n",
    "    def export(self,filename):\n",
    "        with open(filename, 'w') as outfile:\n",
    "            json.dump(self.asDict(),outfile,indent=4, sort_keys=True)\n",
    "   \n",
    "        "
   ]
  },
  {
   "cell_type": "code",
   "execution_count": 4,
   "metadata": {},
   "outputs": [],
   "source": [
    "world = WorldGenerator(mcount=50,fcount=50)"
   ]
  },
  {
   "cell_type": "code",
   "execution_count": 5,
   "metadata": {},
   "outputs": [
    {
     "data": {
      "text/plain": [
       "{'birth': {'day': 20, 'month': 10, 'year': 1954},\n",
       " 'communication': 'Average',\n",
       " 'employment': [6, 6, 30, 30, 30, 10, 19, 19],\n",
       " 'enthusiam': 'Not much',\n",
       " 'first': 'Howard',\n",
       " 'friends': {'23990176-e921-4cd9-851b-0a09f7f01f4b': 3,\n",
       "  '384cfc29-415a-43ed-9e59-7145f5851c76': 2,\n",
       "  '53a71a42-4544-44fc-9836-3a9531c323f0': 5,\n",
       "  '57643b27-938a-4e4c-97ce-3e3e4c5a3d11': 1,\n",
       "  '64466580-dd21-4380-a54b-fca00f1704ce': 1,\n",
       "  '67e4c240-7647-4272-9554-72e5df061c9f': 2,\n",
       "  '90d06513-99df-4900-bdea-885279ee87f5': 2,\n",
       "  'b210a903-c536-42f0-ad54-2d96384a7e59': 3},\n",
       " 'gender': 'M',\n",
       " 'generosity': 'stingy',\n",
       " 'id': 'd297c4f0-f0dd-4f9a-a5aa-4e49cefcabfc',\n",
       " 'imageID': 33,\n",
       " 'last': 'Hankins',\n",
       " 'location': 'Daly City',\n",
       " 'middle': 'John',\n",
       " 'name': 'Howard J. Hankins',\n",
       " 'occupation': 'Sales',\n",
       " 'wealth': 'vast sums'}"
      ]
     },
     "execution_count": 5,
     "metadata": {},
     "output_type": "execute_result"
    }
   ],
   "source": [
    "world.people[1]"
   ]
  },
  {
   "cell_type": "markdown",
   "metadata": {},
   "source": [
    "## demographics"
   ]
  },
  {
   "cell_type": "code",
   "execution_count": 6,
   "metadata": {},
   "outputs": [
    {
     "data": {
      "image/png": "[encoded data removed]",
      "text/plain": [
       "<matplotlib.figure.Figure at 0x122935a58>"
      ]
     },
     "metadata": {},
     "output_type": "display_data"
    }
   ],
   "source": [
    "years = []\n",
    "for i in world.people:\n",
    "    years.append(i[\"birth\"][\"year\"])\n",
    "\n",
    "yearnp = np.array(years)\n",
    "plt.hist(yearnp,bins=25)\n",
    "plt.title(\"Year Histogram\")\n",
    "plt.show()"
   ]
  },
  {
   "cell_type": "code",
   "execution_count": 7,
   "metadata": {},
   "outputs": [
    {
     "data": {
      "image/png": "[encoded data removed]",
      "text/plain": [
       "<matplotlib.figure.Figure at 0x11f7e6668>"
      ]
     },
     "metadata": {},
     "output_type": "display_data"
    }
   ],
   "source": [
    "years = []\n",
    "for i in world.people:\n",
    "    years.append(len(i[\"friends\"]))\n",
    "\n",
    "yearnp = np.array(years)\n",
    "plt.hist(yearnp)\n",
    "plt.title(\"Friend count Histogram\")\n",
    "plt.show()"
   ]
  },
  {
   "cell_type": "code",
   "execution_count": 8,
   "metadata": {},
   "outputs": [
    {
     "data": {
      "text/plain": [
       "4"
      ]
     },
     "execution_count": 8,
     "metadata": {},
     "output_type": "execute_result"
    }
   ],
   "source": [
    "jobs = len(np.unique(world.people[1][\"employment\"]))\n",
    "jobs"
   ]
  },
  {
   "cell_type": "code",
   "execution_count": 9,
   "metadata": {},
   "outputs": [
    {
     "data": {
      "image/png": "[encoded data removed]",
      "text/plain": [
       "<matplotlib.figure.Figure at 0x11dd40668>"
      ]
     },
     "metadata": {},
     "output_type": "display_data"
    }
   ],
   "source": [
    "years = []\n",
    "for i in world.people:\n",
    "    jobs = len(np.unique(i[\"employment\"]))\n",
    "\n",
    "    years.append(jobs)\n",
    "\n",
    "yearnp = np.array(years)\n",
    "plt.hist(yearnp)\n",
    "plt.title(\"job count Histogram\")\n",
    "plt.show()"
   ]
  },
  {
   "cell_type": "code",
   "execution_count": 10,
   "metadata": {},
   "outputs": [],
   "source": [
    "world.export(\"world.json\")"
   ]
  },
  {
   "cell_type": "code",
   "execution_count": null,
   "metadata": {},
   "outputs": [],
   "source": []
  },
  {
   "cell_type": "code",
   "execution_count": null,
   "metadata": {},
   "outputs": [],
   "source": []
  },
  {
   "cell_type": "code",
   "execution_count": null,
   "metadata": {},
   "outputs": [],
   "source": []
  },
  {
   "cell_type": "code",
   "execution_count": null,
   "metadata": {},
   "outputs": [],
   "source": []
  },
  {
   "cell_type": "code",
   "execution_count": null,
   "metadata": {},
   "outputs": [],
   "source": []
  },
  {
   "cell_type": "code",
   "execution_count": null,
   "metadata": {},
   "outputs": [],
   "source": []
  }
 ],
 "metadata": {
  "kernelspec": {
   "display_name": "Python 3",
   "language": "python",
   "name": "python3"
  },
  "language_info": {
   "codemirror_mode": {
    "name": "ipython",
    "version": 3
   },
   "file_extension": ".py",
   "mimetype": "text/x-python",
   "name": "python",
   "nbconvert_exporter": "python",
   "pygments_lexer": "ipython3",
   "version": "3.6.1"
  }
 },
 "nbformat": 4,
 "nbformat_minor": 2
}
