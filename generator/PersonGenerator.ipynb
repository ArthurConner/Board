{
 "cells": [
  {
   "cell_type": "code",
   "execution_count": 1,
   "metadata": {},
   "outputs": [],
   "source": [
    "%matplotlib inline"
   ]
  },
  {
   "cell_type": "code",
   "execution_count": 2,
   "metadata": {},
   "outputs": [],
   "source": [
    "from __future__ import division\n",
    "from numpy.random import randn, uniform, normal\n",
    "import random\n",
    "import numpy as np\n",
    "import os\n",
    "import matplotlib.pyplot as plt\n",
    "import pandas as pd\n",
    "import calendar\n",
    "from datetime import date, timedelta\n"
   ]
  },
  {
   "cell_type": "code",
   "execution_count": 3,
   "metadata": {},
   "outputs": [],
   "source": [
    "# 2010 is the last available year right now\n",
    "years = range(1880, 2017)\n",
    "\n",
    "pieces = []\n",
    "columns = ['name', 'sex', 'births']\n",
    "\n",
    "for year in years:\n",
    "    path = 'names/yob%d.txt' % year\n",
    "    frame = pd.read_csv(path, names=columns)\n",
    "\n",
    "    frame['year'] = year\n",
    "    pieces.append(frame)\n",
    "\n",
    "# Concatenate everything into a single DataFrame\n",
    "names = pd.concat(pieces, ignore_index=True)"
   ]
  },
  {
   "cell_type": "code",
   "execution_count": 7,
   "metadata": {},
   "outputs": [],
   "source": [
    "pieces = []\n",
    "for year, group in names.groupby(['year', 'sex']):\n",
    "    pieces.append(group.sort_values(by='births', ascending=False)[:1000])\n",
    "top1000 = pd.concat(pieces, ignore_index=True)"
   ]
  },
  {
   "cell_type": "code",
   "execution_count": 8,
   "metadata": {},
   "outputs": [
    {
     "data": {
      "text/html": [
       "<div>\n",
       "<style>\n",
       "    .dataframe thead tr:only-child th {\n",
       "        text-align: right;\n",
       "    }\n",
       "\n",
       "    .dataframe thead th {\n",
       "        text-align: left;\n",
       "    }\n",
       "\n",
       "    .dataframe tbody tr th {\n",
       "        vertical-align: top;\n",
       "    }\n",
       "</style>\n",
       "<table border=\"1\" class=\"dataframe\">\n",
       "  <thead>\n",
       "    <tr style=\"text-align: right;\">\n",
       "      <th></th>\n",
       "      <th>name</th>\n",
       "      <th>sex</th>\n",
       "      <th>births</th>\n",
       "      <th>year</th>\n",
       "    </tr>\n",
       "  </thead>\n",
       "  <tbody>\n",
       "    <tr>\n",
       "      <th>0</th>\n",
       "      <td>Mary</td>\n",
       "      <td>F</td>\n",
       "      <td>7065</td>\n",
       "      <td>1880</td>\n",
       "    </tr>\n",
       "    <tr>\n",
       "      <th>1</th>\n",
       "      <td>Anna</td>\n",
       "      <td>F</td>\n",
       "      <td>2604</td>\n",
       "      <td>1880</td>\n",
       "    </tr>\n",
       "    <tr>\n",
       "      <th>2</th>\n",
       "      <td>Emma</td>\n",
       "      <td>F</td>\n",
       "      <td>2003</td>\n",
       "      <td>1880</td>\n",
       "    </tr>\n",
       "    <tr>\n",
       "      <th>3</th>\n",
       "      <td>Elizabeth</td>\n",
       "      <td>F</td>\n",
       "      <td>1939</td>\n",
       "      <td>1880</td>\n",
       "    </tr>\n",
       "    <tr>\n",
       "      <th>4</th>\n",
       "      <td>Minnie</td>\n",
       "      <td>F</td>\n",
       "      <td>1746</td>\n",
       "      <td>1880</td>\n",
       "    </tr>\n",
       "  </tbody>\n",
       "</table>\n",
       "</div>"
      ],
      "text/plain": [
       "        name sex  births  year\n",
       "0       Mary   F    7065  1880\n",
       "1       Anna   F    2604  1880\n",
       "2       Emma   F    2003  1880\n",
       "3  Elizabeth   F    1939  1880\n",
       "4     Minnie   F    1746  1880"
      ]
     },
     "execution_count": 8,
     "metadata": {},
     "output_type": "execute_result"
    }
   ],
   "source": [
    "top1000.head()"
   ]
  },
  {
   "cell_type": "code",
   "execution_count": 9,
   "metadata": {},
   "outputs": [
    {
     "data": {
      "text/html": [
       "<div>\n",
       "<style>\n",
       "    .dataframe thead tr:only-child th {\n",
       "        text-align: right;\n",
       "    }\n",
       "\n",
       "    .dataframe thead th {\n",
       "        text-align: left;\n",
       "    }\n",
       "\n",
       "    .dataframe tbody tr th {\n",
       "        vertical-align: top;\n",
       "    }\n",
       "</style>\n",
       "<table border=\"1\" class=\"dataframe\">\n",
       "  <thead>\n",
       "    <tr style=\"text-align: right;\">\n",
       "      <th></th>\n",
       "      <th>name</th>\n",
       "      <th>sex</th>\n",
       "      <th>births</th>\n",
       "      <th>year</th>\n",
       "      <th>freq</th>\n",
       "      <th>bound</th>\n",
       "    </tr>\n",
       "  </thead>\n",
       "  <tbody>\n",
       "    <tr>\n",
       "      <th>177872</th>\n",
       "      <td>Octavio</td>\n",
       "      <td>M</td>\n",
       "      <td>55</td>\n",
       "      <td>1968</td>\n",
       "      <td>0.000033</td>\n",
       "      <td>0.999869</td>\n",
       "    </tr>\n",
       "    <tr>\n",
       "      <th>177873</th>\n",
       "      <td>Torrance</td>\n",
       "      <td>M</td>\n",
       "      <td>55</td>\n",
       "      <td>1968</td>\n",
       "      <td>0.000033</td>\n",
       "      <td>0.999902</td>\n",
       "    </tr>\n",
       "    <tr>\n",
       "      <th>177874</th>\n",
       "      <td>Raynard</td>\n",
       "      <td>M</td>\n",
       "      <td>55</td>\n",
       "      <td>1968</td>\n",
       "      <td>0.000033</td>\n",
       "      <td>0.999935</td>\n",
       "    </tr>\n",
       "    <tr>\n",
       "      <th>177875</th>\n",
       "      <td>Raleigh</td>\n",
       "      <td>M</td>\n",
       "      <td>55</td>\n",
       "      <td>1968</td>\n",
       "      <td>0.000033</td>\n",
       "      <td>0.999967</td>\n",
       "    </tr>\n",
       "    <tr>\n",
       "      <th>177876</th>\n",
       "      <td>Prince</td>\n",
       "      <td>M</td>\n",
       "      <td>55</td>\n",
       "      <td>1968</td>\n",
       "      <td>0.000033</td>\n",
       "      <td>1.000000</td>\n",
       "    </tr>\n",
       "  </tbody>\n",
       "</table>\n",
       "</div>"
      ],
      "text/plain": [
       "            name sex  births  year      freq     bound\n",
       "177872   Octavio   M      55  1968  0.000033  0.999869\n",
       "177873  Torrance   M      55  1968  0.000033  0.999902\n",
       "177874   Raynard   M      55  1968  0.000033  0.999935\n",
       "177875   Raleigh   M      55  1968  0.000033  0.999967\n",
       "177876    Prince   M      55  1968  0.000033  1.000000"
      ]
     },
     "execution_count": 9,
     "metadata": {},
     "output_type": "execute_result"
    }
   ],
   "source": [
    "def firstName(year,sex):\n",
    "    df = top1000[top1000.year == year]\n",
    "    df = df[df.sex == sex]\n",
    "    total = float(np.sum(df.births))\n",
    "   \n",
    "    df = df.sort_values(by=['births'], ascending=False)\n",
    "    df[\"freq\"] = df.births.apply(lambda x: float(x)/total)\n",
    "    df[\"bound\"] = df.freq.cumsum()\n",
    "    return df\n",
    "firstName(1968,\"M\").tail()"
   ]
  },
  {
   "cell_type": "code",
   "execution_count": 10,
   "metadata": {},
   "outputs": [
    {
     "data": {
      "text/html": [
       "<div>\n",
       "<style>\n",
       "    .dataframe thead tr:only-child th {\n",
       "        text-align: right;\n",
       "    }\n",
       "\n",
       "    .dataframe thead th {\n",
       "        text-align: left;\n",
       "    }\n",
       "\n",
       "    .dataframe tbody tr th {\n",
       "        vertical-align: top;\n",
       "    }\n",
       "</style>\n",
       "<table border=\"1\" class=\"dataframe\">\n",
       "  <thead>\n",
       "    <tr style=\"text-align: right;\">\n",
       "      <th></th>\n",
       "      <th>name</th>\n",
       "      <th>sex</th>\n",
       "      <th>births</th>\n",
       "      <th>year</th>\n",
       "      <th>freq</th>\n",
       "      <th>bound</th>\n",
       "    </tr>\n",
       "  </thead>\n",
       "  <tbody>\n",
       "    <tr>\n",
       "      <th>185877</th>\n",
       "      <td>Jennifer</td>\n",
       "      <td>F</td>\n",
       "      <td>62454</td>\n",
       "      <td>1973</td>\n",
       "      <td>0.048249</td>\n",
       "      <td>0.048249</td>\n",
       "    </tr>\n",
       "    <tr>\n",
       "      <th>185878</th>\n",
       "      <td>Amy</td>\n",
       "      <td>F</td>\n",
       "      <td>26965</td>\n",
       "      <td>1973</td>\n",
       "      <td>0.020832</td>\n",
       "      <td>0.069081</td>\n",
       "    </tr>\n",
       "    <tr>\n",
       "      <th>185879</th>\n",
       "      <td>Michelle</td>\n",
       "      <td>F</td>\n",
       "      <td>26930</td>\n",
       "      <td>1973</td>\n",
       "      <td>0.020805</td>\n",
       "      <td>0.089886</td>\n",
       "    </tr>\n",
       "    <tr>\n",
       "      <th>185880</th>\n",
       "      <td>Kimberly</td>\n",
       "      <td>F</td>\n",
       "      <td>23532</td>\n",
       "      <td>1973</td>\n",
       "      <td>0.018180</td>\n",
       "      <td>0.108066</td>\n",
       "    </tr>\n",
       "    <tr>\n",
       "      <th>185881</th>\n",
       "      <td>Lisa</td>\n",
       "      <td>F</td>\n",
       "      <td>22667</td>\n",
       "      <td>1973</td>\n",
       "      <td>0.017512</td>\n",
       "      <td>0.125578</td>\n",
       "    </tr>\n",
       "  </tbody>\n",
       "</table>\n",
       "</div>"
      ],
      "text/plain": [
       "            name sex  births  year      freq     bound\n",
       "185877  Jennifer   F   62454  1973  0.048249  0.048249\n",
       "185878       Amy   F   26965  1973  0.020832  0.069081\n",
       "185879  Michelle   F   26930  1973  0.020805  0.089886\n",
       "185880  Kimberly   F   23532  1973  0.018180  0.108066\n",
       "185881      Lisa   F   22667  1973  0.017512  0.125578"
      ]
     },
     "execution_count": 10,
     "metadata": {},
     "output_type": "execute_result"
    }
   ],
   "source": [
    "bar = firstName(1973,\"F\")\n",
    "bar.head()"
   ]
  },
  {
   "cell_type": "code",
   "execution_count": 11,
   "metadata": {},
   "outputs": [
    {
     "data": {
      "text/plain": [
       "(2, 4, 0)"
      ]
     },
     "execution_count": 11,
     "metadata": {},
     "output_type": "execute_result"
    }
   ],
   "source": [
    "bar.bound.searchsorted(0.07)[0], bar.bound.searchsorted(0.11)[0], bar.bound.searchsorted(0.01)[0]"
   ]
  },
  {
   "cell_type": "code",
   "execution_count": 12,
   "metadata": {},
   "outputs": [
    {
     "data": {
      "text/plain": [
       "'Lisa'"
      ]
     },
     "execution_count": 12,
     "metadata": {},
     "output_type": "execute_result"
    }
   ],
   "source": [
    "def rowName(df,prob):\n",
    "    i = df.bound.searchsorted(prob)[0]\n",
    "    row = df.iloc[i]\n",
    "    return row[\"name\"]\n",
    "\n",
    "rowName(bar,0.11)"
   ]
  },
  {
   "cell_type": "code",
   "execution_count": 13,
   "metadata": {},
   "outputs": [
    {
     "data": {
      "text/plain": [
       "['Donald',\n",
       " 'Tommie',\n",
       " 'Jeff',\n",
       " 'Joseph',\n",
       " 'Ralph',\n",
       " 'Horace',\n",
       " 'Francis',\n",
       " 'Tracy',\n",
       " 'Sidney',\n",
       " 'Joe']"
      ]
     },
     "execution_count": 13,
     "metadata": {},
     "output_type": "execute_result"
    }
   ],
   "source": [
    "def makeFirstList(year,sex,count):\n",
    "    bar = firstName(year,sex)\n",
    "    ret = []\n",
    "    for x in range(count):\n",
    "        prob = uniform()\n",
    "        name = rowName(bar,prob)\n",
    "        ret.append(name)\n",
    "        \n",
    "    return ret\n",
    "\n",
    "makeFirstList(1912,\"M\",10)"
   ]
  },
  {
   "cell_type": "markdown",
   "metadata": {},
   "source": [
    "### Last Names\n",
    "from the [census 1990](https://www.census.gov/topics/population/genealogy/data/1990_census/1990_census_namefiles.html)"
   ]
  },
  {
   "cell_type": "markdown",
   "metadata": {},
   "source": []
  },
  {
   "cell_type": "code",
   "execution_count": 14,
   "metadata": {},
   "outputs": [
    {
     "data": {
      "text/html": [
       "<div>\n",
       "<style>\n",
       "    .dataframe thead tr:only-child th {\n",
       "        text-align: right;\n",
       "    }\n",
       "\n",
       "    .dataframe thead th {\n",
       "        text-align: left;\n",
       "    }\n",
       "\n",
       "    .dataframe tbody tr th {\n",
       "        vertical-align: top;\n",
       "    }\n",
       "</style>\n",
       "<table border=\"1\" class=\"dataframe\">\n",
       "  <thead>\n",
       "    <tr style=\"text-align: right;\">\n",
       "      <th></th>\n",
       "      <th>uName</th>\n",
       "      <th>freq</th>\n",
       "      <th>c</th>\n",
       "      <th>Rank</th>\n",
       "    </tr>\n",
       "  </thead>\n",
       "  <tbody>\n",
       "    <tr>\n",
       "      <th>0</th>\n",
       "      <td>SMITH</td>\n",
       "      <td>1.006</td>\n",
       "      <td>1.006</td>\n",
       "      <td>1</td>\n",
       "    </tr>\n",
       "    <tr>\n",
       "      <th>1</th>\n",
       "      <td>JOHNSON</td>\n",
       "      <td>0.810</td>\n",
       "      <td>1.816</td>\n",
       "      <td>2</td>\n",
       "    </tr>\n",
       "    <tr>\n",
       "      <th>2</th>\n",
       "      <td>WILLIAMS</td>\n",
       "      <td>0.699</td>\n",
       "      <td>2.515</td>\n",
       "      <td>3</td>\n",
       "    </tr>\n",
       "    <tr>\n",
       "      <th>3</th>\n",
       "      <td>JONES</td>\n",
       "      <td>0.621</td>\n",
       "      <td>3.136</td>\n",
       "      <td>4</td>\n",
       "    </tr>\n",
       "    <tr>\n",
       "      <th>4</th>\n",
       "      <td>BROWN</td>\n",
       "      <td>0.621</td>\n",
       "      <td>3.757</td>\n",
       "      <td>5</td>\n",
       "    </tr>\n",
       "  </tbody>\n",
       "</table>\n",
       "</div>"
      ],
      "text/plain": [
       "      uName   freq      c  Rank\n",
       "0     SMITH  1.006  1.006     1\n",
       "1   JOHNSON  0.810  1.816     2\n",
       "2  WILLIAMS  0.699  2.515     3\n",
       "3     JONES  0.621  3.136     4\n",
       "4     BROWN  0.621  3.757     5"
      ]
     },
     "execution_count": 14,
     "metadata": {},
     "output_type": "execute_result"
    }
   ],
   "source": [
    "path = 'surnames/1990.txt'\n",
    "lastName = pd.read_csv(path,  delim_whitespace=True , names = [\"uName\",\"freq\",\"c\",\"Rank\"])\n",
    "lastName.head()"
   ]
  },
  {
   "cell_type": "code",
   "execution_count": 15,
   "metadata": {},
   "outputs": [
    {
     "data": {
      "text/html": [
       "<div>\n",
       "<style>\n",
       "    .dataframe thead tr:only-child th {\n",
       "        text-align: right;\n",
       "    }\n",
       "\n",
       "    .dataframe thead th {\n",
       "        text-align: left;\n",
       "    }\n",
       "\n",
       "    .dataframe tbody tr th {\n",
       "        vertical-align: top;\n",
       "    }\n",
       "</style>\n",
       "<table border=\"1\" class=\"dataframe\">\n",
       "  <thead>\n",
       "    <tr style=\"text-align: right;\">\n",
       "      <th></th>\n",
       "      <th>uName</th>\n",
       "      <th>freq</th>\n",
       "      <th>c</th>\n",
       "      <th>Rank</th>\n",
       "      <th>name</th>\n",
       "      <th>freqReal</th>\n",
       "      <th>bound</th>\n",
       "    </tr>\n",
       "  </thead>\n",
       "  <tbody>\n",
       "    <tr>\n",
       "      <th>0</th>\n",
       "      <td>SMITH</td>\n",
       "      <td>1.006</td>\n",
       "      <td>1.006</td>\n",
       "      <td>1</td>\n",
       "      <td>Smith</td>\n",
       "      <td>0.012640</td>\n",
       "      <td>0.012640</td>\n",
       "    </tr>\n",
       "    <tr>\n",
       "      <th>1</th>\n",
       "      <td>JOHNSON</td>\n",
       "      <td>0.810</td>\n",
       "      <td>1.816</td>\n",
       "      <td>2</td>\n",
       "      <td>Johnson</td>\n",
       "      <td>0.010177</td>\n",
       "      <td>0.022817</td>\n",
       "    </tr>\n",
       "    <tr>\n",
       "      <th>2</th>\n",
       "      <td>WILLIAMS</td>\n",
       "      <td>0.699</td>\n",
       "      <td>2.515</td>\n",
       "      <td>3</td>\n",
       "      <td>Williams</td>\n",
       "      <td>0.008783</td>\n",
       "      <td>0.031599</td>\n",
       "    </tr>\n",
       "    <tr>\n",
       "      <th>3</th>\n",
       "      <td>JONES</td>\n",
       "      <td>0.621</td>\n",
       "      <td>3.136</td>\n",
       "      <td>4</td>\n",
       "      <td>Jones</td>\n",
       "      <td>0.007802</td>\n",
       "      <td>0.039402</td>\n",
       "    </tr>\n",
       "    <tr>\n",
       "      <th>4</th>\n",
       "      <td>BROWN</td>\n",
       "      <td>0.621</td>\n",
       "      <td>3.757</td>\n",
       "      <td>5</td>\n",
       "      <td>Brown</td>\n",
       "      <td>0.007802</td>\n",
       "      <td>0.047204</td>\n",
       "    </tr>\n",
       "  </tbody>\n",
       "</table>\n",
       "</div>"
      ],
      "text/plain": [
       "      uName   freq      c  Rank      name  freqReal     bound\n",
       "0     SMITH  1.006  1.006     1     Smith  0.012640  0.012640\n",
       "1   JOHNSON  0.810  1.816     2   Johnson  0.010177  0.022817\n",
       "2  WILLIAMS  0.699  2.515     3  Williams  0.008783  0.031599\n",
       "3     JONES  0.621  3.136     4     Jones  0.007802  0.039402\n",
       "4     BROWN  0.621  3.757     5     Brown  0.007802  0.047204"
      ]
     },
     "execution_count": 15,
     "metadata": {},
     "output_type": "execute_result"
    }
   ],
   "source": [
    "lastName[\"name\"] = lastName.uName.apply(lambda x: str(x).title())\n",
    "total = float(np.sum(lastName.freq))\n",
    "\n",
    "\n",
    "lastName[\"freqReal\"] = lastName.freq.apply(lambda x: float(x)/total)\n",
    "lastName[\"bound\"] = lastName.freqReal.cumsum()\n",
    "lastName.head()"
   ]
  },
  {
   "cell_type": "code",
   "execution_count": 16,
   "metadata": {},
   "outputs": [
    {
     "data": {
      "text/plain": [
       "'Johnson'"
      ]
     },
     "execution_count": 16,
     "metadata": {},
     "output_type": "execute_result"
    }
   ],
   "source": [
    "rowName(lastName,0.02)"
   ]
  },
  {
   "cell_type": "code",
   "execution_count": 17,
   "metadata": {},
   "outputs": [
    {
     "data": {
      "text/plain": [
       "[{'first': 'Vincent',\n",
       "  'gender': 'M',\n",
       "  'last': 'Cambell',\n",
       "  'middle': 'Adam',\n",
       "  'name': 'Vincent A. Cambell'},\n",
       " {'first': 'Joshua',\n",
       "  'gender': 'M',\n",
       "  'last': 'Robbs',\n",
       "  'middle': 'Joshua',\n",
       "  'name': 'Joshua J. Robbs'},\n",
       " {'first': 'Stephon',\n",
       "  'gender': 'M',\n",
       "  'last': 'Lee',\n",
       "  'middle': 'James',\n",
       "  'name': 'Stephon J. Lee'},\n",
       " {'first': 'Courtney',\n",
       "  'gender': 'M',\n",
       "  'last': 'Bradley',\n",
       "  'middle': 'Douglas',\n",
       "  'name': 'Courtney D. Bradley'},\n",
       " {'first': 'Kory',\n",
       "  'gender': 'M',\n",
       "  'last': 'Denning',\n",
       "  'middle': 'Jay',\n",
       "  'name': 'Kory J. Denning'},\n",
       " {'first': 'Bruce',\n",
       "  'gender': 'M',\n",
       "  'last': 'Williams',\n",
       "  'middle': 'Jacob',\n",
       "  'name': 'Bruce J. Williams'},\n",
       " {'first': 'Daniel',\n",
       "  'gender': 'M',\n",
       "  'last': 'Farr',\n",
       "  'middle': 'Edward',\n",
       "  'name': 'Daniel E. Farr'},\n",
       " {'first': 'Julian',\n",
       "  'gender': 'M',\n",
       "  'last': 'Moriarty',\n",
       "  'middle': 'Charles',\n",
       "  'name': 'Julian C. Moriarty'},\n",
       " {'first': 'Gregory',\n",
       "  'gender': 'M',\n",
       "  'last': 'Day',\n",
       "  'middle': 'Michael',\n",
       "  'name': 'Gregory M. Day'},\n",
       " {'first': 'Terry',\n",
       "  'gender': 'M',\n",
       "  'last': 'Darnell',\n",
       "  'middle': 'Russell',\n",
       "  'name': 'Terry R. Darnell'}]"
      ]
     },
     "execution_count": 17,
     "metadata": {},
     "output_type": "execute_result"
    }
   ],
   "source": [
    "def randomFullName(year,gender,count):\n",
    "    aval = makeFirstList(year,gender,count)\n",
    "    midList = makeFirstList(year,gender,count)\n",
    "    ret = []\n",
    "    for i in range(len(aval)):\n",
    "        first = aval[i]\n",
    "        middle = midList[i]\n",
    "        prob = uniform()\n",
    "        last = rowName(lastName,prob)\n",
    "        name = first + \" \" + middle[0] + \". \" + last\n",
    "        ret.append( {\"first\":first,\"middle\":middle,\"gender\":gender,\"last\":last, \"name\":name})\n",
    "    \n",
    "        \n",
    "    return ret\n",
    "randomFullName(1986,\"M\",10)"
   ]
  },
  {
   "cell_type": "markdown",
   "metadata": {},
   "source": [
    "## year"
   ]
  },
  {
   "cell_type": "code",
   "execution_count": 27,
   "metadata": {},
   "outputs": [
    {
     "data": {
      "text/plain": [
       "{'day': 3, 'month': 8, 'year': 2015}"
      ]
     },
     "execution_count": 27,
     "metadata": {},
     "output_type": "execute_result"
    }
   ],
   "source": [
    "def randomDate(year):\n",
    "    firstJan = date(year,1,1)\n",
    "    d = firstJan + timedelta(days = random.randint(0, 365 if calendar.isleap(firstJan.year) else 364))\n",
    "    return {\"year\":year,\"month\":d.month,\"day\":d.day}\n",
    "    \n",
    "randomDate(2015)"
   ]
  },
  {
   "cell_type": "code",
   "execution_count": null,
   "metadata": {},
   "outputs": [],
   "source": []
  },
  {
   "cell_type": "code",
   "execution_count": null,
   "metadata": {},
   "outputs": [],
   "source": [
    "\n"
   ]
  },
  {
   "cell_type": "code",
   "execution_count": 46,
   "metadata": {},
   "outputs": [
    {
     "data": {
      "text/plain": [
       "[{'birth': {'day': 18, 'month': 1, 'year': 1960},\n",
       "  'first': 'David',\n",
       "  'gender': 'M',\n",
       "  'imageID': 2,\n",
       "  'last': 'Chapa',\n",
       "  'middle': 'William',\n",
       "  'name': 'David W. Chapa'},\n",
       " {'birth': {'day': 16, 'month': 12, 'year': 1962},\n",
       "  'first': 'Kelly',\n",
       "  'gender': 'M',\n",
       "  'imageID': 4,\n",
       "  'last': 'Kalish',\n",
       "  'middle': 'Larry',\n",
       "  'name': 'Kelly L. Kalish'},\n",
       " {'birth': {'day': 8, 'month': 4, 'year': 1964},\n",
       "  'first': 'Wesley',\n",
       "  'gender': 'M',\n",
       "  'imageID': 1,\n",
       "  'last': 'Wilson',\n",
       "  'middle': 'Mike',\n",
       "  'name': 'Wesley M. Wilson'},\n",
       " {'birth': {'day': 2, 'month': 8, 'year': 1973},\n",
       "  'first': 'Charles',\n",
       "  'gender': 'M',\n",
       "  'imageID': 0,\n",
       "  'last': 'Willis',\n",
       "  'middle': 'Nicholas',\n",
       "  'name': 'Charles N. Willis'},\n",
       " {'birth': {'day': 26, 'month': 11, 'year': 1973},\n",
       "  'first': 'Brian',\n",
       "  'gender': 'M',\n",
       "  'imageID': 3,\n",
       "  'last': 'Taylor',\n",
       "  'middle': 'Derek',\n",
       "  'name': 'Brian D. Taylor'}]"
      ]
     },
     "execution_count": 46,
     "metadata": {},
     "output_type": "execute_result"
    }
   ],
   "source": [
    "def getYears(yearMean,std,count,gender):\n",
    "    (years,yearcounts) = np.unique(normal(yearMean,std,count).astype(np.int32),return_counts=True)\n",
    "    \n",
    "    ret = []\n",
    "    \n",
    "   \n",
    "   \n",
    "    for i in range(len(years)):\n",
    "        year = int(years[i])\n",
    "        ycount =  yearcounts[i]\n",
    "        names = randomFullName(year,gender,ycount)\n",
    "\n",
    "\n",
    "        for j in range(len(names)):\n",
    "            pep = names[j]\n",
    "            pep[\"birth\"] = randomDate(year)\n",
    "            ret.append(pep)\n",
    "    \n",
    "    arr = np.arange(len(ret)).astype(np.int32)\n",
    "    np.random.shuffle(arr)\n",
    "    \n",
    "    for i in range(len(ret)):\n",
    "        pep =  ret[i]\n",
    "        pep[\"imageID\"] = int(arr[i])\n",
    "    \n",
    "    return ret\n",
    "\n",
    "getYears(1970,5,5,\"M\")"
   ]
  },
  {
   "cell_type": "code",
   "execution_count": null,
   "metadata": {},
   "outputs": [],
   "source": [
    "## ouput"
   ]
  },
  {
   "cell_type": "code",
   "execution_count": 23,
   "metadata": {},
   "outputs": [],
   "source": [
    "import json\n",
    "import uuid"
   ]
  },
  {
   "cell_type": "code",
   "execution_count": 50,
   "metadata": {},
   "outputs": [],
   "source": [
    "people = getYears(1965,7,50,\"M\")\n",
    "people.extend( getYears(1970,5,50,\"F\"))\n",
    "lookup = {}\n",
    "\n",
    "\n",
    "for i in range(len(people)):\n",
    "    key = str(uuid.uuid4())\n",
    "    pep =  people[i]\n",
    "    pep[\"id\"] = key\n",
    "    lookup[key] = pep\n",
    "\n",
    "\n",
    "\n",
    "with open('data.txt', 'w') as outfile:\n",
    "    json.dump({\"people\":people},outfile,indent=4, sort_keys=True)\n"
   ]
  },
  {
   "cell_type": "code",
   "execution_count": 39,
   "metadata": {},
   "outputs": [
    {
     "data": {
      "text/plain": [
       "array([8, 3, 1, 2, 6, 4, 5, 7, 0, 9])"
      ]
     },
     "execution_count": 39,
     "metadata": {},
     "output_type": "execute_result"
    }
   ],
   "source": [
    "arr = np.arange(10).astype(int)\n",
    "np.random.shuffle(arr)\n",
    "arr"
   ]
  }
 ],
 "metadata": {
  "kernelspec": {
   "display_name": "Python 3",
   "language": "python",
   "name": "python3"
  },
  "language_info": {
   "codemirror_mode": {
    "name": "ipython",
    "version": 3
   },
   "file_extension": ".py",
   "mimetype": "text/x-python",
   "name": "python",
   "nbconvert_exporter": "python",
   "pygments_lexer": "ipython3",
   "version": "3.6.1"
  }
 },
 "nbformat": 4,
 "nbformat_minor": 2
}
